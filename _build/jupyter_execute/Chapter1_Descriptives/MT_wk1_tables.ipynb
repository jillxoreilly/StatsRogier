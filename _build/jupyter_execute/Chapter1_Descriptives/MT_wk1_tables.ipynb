{
 "cells": [
  {
   "cell_type": "markdown",
   "id": "69252ce6",
   "metadata": {},
   "source": [
    "# Tables of descriptive statistics\n",
    "\n",
    "When you are writing a report on a dataset you might like to generate a nice table with the descriptive statistics that you need all together in one place\n",
    "\n",
    "Below we review a couple of useful pieces of Python syntax for making tables:\n",
    "\n",
    "- df.describe()\n",
    "- df.agg()\n",
    "- df.groupby()\n",
    "\n",
    "### Set up Python Libraries\n",
    "\n",
    "As usual you will need to run this code block to import the relevant Python libraries"
   ]
  },
  {
   "cell_type": "code",
   "execution_count": 1,
   "id": "7420037e",
   "metadata": {},
   "outputs": [],
   "source": [
    "# Set-up Python libraries - you need to run this but you don't need to change it\n",
    "import numpy as np\n",
    "import matplotlib.pyplot as plt\n",
    "import scipy.stats as stats\n",
    "import pandas as pd\n",
    "import seaborn as sns\n",
    "sns.set_theme(style='white')\n",
    "import statsmodels.api as sm\n",
    "import statsmodels.formula.api as smf"
   ]
  },
  {
   "cell_type": "markdown",
   "id": "14d3d992",
   "metadata": {},
   "source": [
    "## Import a dataset to work with\n",
    "\n",
    "You will need to download the file OxfordWeather.csv from Canvas to your computer, then import it"
   ]
  },
  {
   "cell_type": "code",
   "execution_count": 2,
   "id": "53648053",
   "metadata": {
    "scrolled": false
   },
   "outputs": [
    {
     "ename": "NameError",
     "evalue": "name 'pandas' is not defined",
     "output_type": "error",
     "traceback": [
      "\u001b[0;31m---------------------------------------------------------------------------\u001b[0m",
      "\u001b[0;31mNameError\u001b[0m                                 Traceback (most recent call last)",
      "Cell \u001b[0;32mIn[2], line 1\u001b[0m\n\u001b[0;32m----> 1\u001b[0m weather \u001b[38;5;241m=\u001b[39m \u001b[43mpandas\u001b[49m\u001b[38;5;241m.\u001b[39mread_csv(\u001b[38;5;124m\"\u001b[39m\u001b[38;5;124mhttps://raw.githubusercontent.com/jillxoreilly/StatsCourseBook/main/data/OxfordWeather.csv\u001b[39m\u001b[38;5;124m\"\u001b[39m)\n\u001b[1;32m      2\u001b[0m display(weather)\n",
      "\u001b[0;31mNameError\u001b[0m: name 'pandas' is not defined"
     ]
    }
   ],
   "source": [
    "weather = pandas.read_csv(\"https://raw.githubusercontent.com/jillxoreilly/StatsCourseBook/main/data/OxfordWeather.csv\")\n",
    "display(weather)"
   ]
  },
  {
   "cell_type": "markdown",
   "id": "9a2d2219",
   "metadata": {},
   "source": [
    "## Quick look: `df.describe()`\n",
    "\n",
    "- `df.describe()`\n",
    "\n",
    "We can output a standard set of descriptives for all the numerical columns in the dataframe by just using `df.describe()`"
   ]
  },
  {
   "cell_type": "code",
   "execution_count": 3,
   "id": "931302ab",
   "metadata": {},
   "outputs": [
    {
     "data": {
      "text/html": [
       "<div>\n",
       "<style scoped>\n",
       "    .dataframe tbody tr th:only-of-type {\n",
       "        vertical-align: middle;\n",
       "    }\n",
       "\n",
       "    .dataframe tbody tr th {\n",
       "        vertical-align: top;\n",
       "    }\n",
       "\n",
       "    .dataframe thead th {\n",
       "        text-align: right;\n",
       "    }\n",
       "</style>\n",
       "<table border=\"1\" class=\"dataframe\">\n",
       "  <thead>\n",
       "    <tr style=\"text-align: right;\">\n",
       "      <th></th>\n",
       "      <th>YYYY</th>\n",
       "      <th>MM</th>\n",
       "      <th>DD</th>\n",
       "      <th>Tmax</th>\n",
       "      <th>Tmin</th>\n",
       "      <th>Tmean</th>\n",
       "      <th>Trange</th>\n",
       "      <th>Rainfall_mm</th>\n",
       "    </tr>\n",
       "  </thead>\n",
       "  <tbody>\n",
       "    <tr>\n",
       "      <th>count</th>\n",
       "      <td>71343.000000</td>\n",
       "      <td>71343.000000</td>\n",
       "      <td>71343.000000</td>\n",
       "      <td>71342.000000</td>\n",
       "      <td>71341.000000</td>\n",
       "      <td>71341.000000</td>\n",
       "      <td>71338.000000</td>\n",
       "      <td>71343.000000</td>\n",
       "    </tr>\n",
       "    <tr>\n",
       "      <th>mean</th>\n",
       "      <td>1924.165174</td>\n",
       "      <td>6.516210</td>\n",
       "      <td>15.729154</td>\n",
       "      <td>13.890153</td>\n",
       "      <td>6.156018</td>\n",
       "      <td>10.046208</td>\n",
       "      <td>7.734244</td>\n",
       "      <td>1.786964</td>\n",
       "    </tr>\n",
       "    <tr>\n",
       "      <th>std</th>\n",
       "      <td>56.387642</td>\n",
       "      <td>3.450063</td>\n",
       "      <td>8.799927</td>\n",
       "      <td>6.490258</td>\n",
       "      <td>5.235341</td>\n",
       "      <td>5.632085</td>\n",
       "      <td>3.513996</td>\n",
       "      <td>3.976377</td>\n",
       "    </tr>\n",
       "    <tr>\n",
       "      <th>min</th>\n",
       "      <td>1827.000000</td>\n",
       "      <td>1.000000</td>\n",
       "      <td>1.000000</td>\n",
       "      <td>-9.600000</td>\n",
       "      <td>-17.800000</td>\n",
       "      <td>-12.100000</td>\n",
       "      <td>0.000000</td>\n",
       "      <td>0.000000</td>\n",
       "    </tr>\n",
       "    <tr>\n",
       "      <th>25%</th>\n",
       "      <td>1875.000000</td>\n",
       "      <td>4.000000</td>\n",
       "      <td>8.000000</td>\n",
       "      <td>9.200000</td>\n",
       "      <td>2.200000</td>\n",
       "      <td>5.900000</td>\n",
       "      <td>5.200000</td>\n",
       "      <td>0.000000</td>\n",
       "    </tr>\n",
       "    <tr>\n",
       "      <th>50%</th>\n",
       "      <td>1924.000000</td>\n",
       "      <td>7.000000</td>\n",
       "      <td>16.000000</td>\n",
       "      <td>13.700000</td>\n",
       "      <td>6.400000</td>\n",
       "      <td>10.100000</td>\n",
       "      <td>7.400000</td>\n",
       "      <td>0.000000</td>\n",
       "    </tr>\n",
       "    <tr>\n",
       "      <th>75%</th>\n",
       "      <td>1973.000000</td>\n",
       "      <td>10.000000</td>\n",
       "      <td>23.000000</td>\n",
       "      <td>18.900000</td>\n",
       "      <td>10.200000</td>\n",
       "      <td>14.500000</td>\n",
       "      <td>10.000000</td>\n",
       "      <td>1.700000</td>\n",
       "    </tr>\n",
       "    <tr>\n",
       "      <th>max</th>\n",
       "      <td>2022.000000</td>\n",
       "      <td>12.000000</td>\n",
       "      <td>31.000000</td>\n",
       "      <td>36.500000</td>\n",
       "      <td>21.200000</td>\n",
       "      <td>27.400000</td>\n",
       "      <td>23.100000</td>\n",
       "      <td>87.900000</td>\n",
       "    </tr>\n",
       "  </tbody>\n",
       "</table>\n",
       "</div>"
      ],
      "text/plain": [
       "               YYYY            MM            DD          Tmax          Tmin  \\\n",
       "count  71343.000000  71343.000000  71343.000000  71342.000000  71341.000000   \n",
       "mean    1924.165174      6.516210     15.729154     13.890153      6.156018   \n",
       "std       56.387642      3.450063      8.799927      6.490258      5.235341   \n",
       "min     1827.000000      1.000000      1.000000     -9.600000    -17.800000   \n",
       "25%     1875.000000      4.000000      8.000000      9.200000      2.200000   \n",
       "50%     1924.000000      7.000000     16.000000     13.700000      6.400000   \n",
       "75%     1973.000000     10.000000     23.000000     18.900000     10.200000   \n",
       "max     2022.000000     12.000000     31.000000     36.500000     21.200000   \n",
       "\n",
       "              Tmean        Trange   Rainfall_mm  \n",
       "count  71341.000000  71338.000000  71343.000000  \n",
       "mean      10.046208      7.734244      1.786964  \n",
       "std        5.632085      3.513996      3.976377  \n",
       "min      -12.100000      0.000000      0.000000  \n",
       "25%        5.900000      5.200000      0.000000  \n",
       "50%       10.100000      7.400000      0.000000  \n",
       "75%       14.500000     10.000000      1.700000  \n",
       "max       27.400000     23.100000     87.900000  "
      ]
     },
     "execution_count": 3,
     "metadata": {},
     "output_type": "execute_result"
    }
   ],
   "source": [
    "weather.describe()"
   ]
  },
  {
   "cell_type": "markdown",
   "id": "f43da48f",
   "metadata": {},
   "source": [
    "**Note-** \n",
    "* <tt>Month</tt> is missing from the table because the values are not numerical\n",
    "* We have got descriptives for <tt>YYYY</tt> and \n",
    "\n",
    "This can be good for a quick look but most likely you will not need all these stats on aall the variables - if you were producing a report for an assignment (or a client) you would want to customize the table\n",
    "\n",
    "## Custom table: `df.agg()`\n",
    "\n",
    "`df.agg({'columname':['mean', 'std', 'count']})`\n",
    "\n",
    "You can create a table with the just the stats you need using the function `df.agg()`\n",
    "\n",
    "This is not essential (although it does look nice in a report) - the syntax is a bit fiddly but you can copy from this example which gives the mean and standard deviation for <tt>Tmin</tt> and <tt>Tmax</tt>:"
   ]
  },
  {
   "cell_type": "code",
   "execution_count": 4,
   "id": "3915d638",
   "metadata": {},
   "outputs": [
    {
     "data": {
      "text/html": [
       "<div>\n",
       "<style scoped>\n",
       "    .dataframe tbody tr th:only-of-type {\n",
       "        vertical-align: middle;\n",
       "    }\n",
       "\n",
       "    .dataframe tbody tr th {\n",
       "        vertical-align: top;\n",
       "    }\n",
       "\n",
       "    .dataframe thead th {\n",
       "        text-align: right;\n",
       "    }\n",
       "</style>\n",
       "<table border=\"1\" class=\"dataframe\">\n",
       "  <thead>\n",
       "    <tr style=\"text-align: right;\">\n",
       "      <th></th>\n",
       "      <th>Tmin</th>\n",
       "      <th>Tmax</th>\n",
       "    </tr>\n",
       "  </thead>\n",
       "  <tbody>\n",
       "    <tr>\n",
       "      <th>mean</th>\n",
       "      <td>6.156018</td>\n",
       "      <td>13.890153</td>\n",
       "    </tr>\n",
       "    <tr>\n",
       "      <th>std</th>\n",
       "      <td>5.235341</td>\n",
       "      <td>6.490258</td>\n",
       "    </tr>\n",
       "  </tbody>\n",
       "</table>\n",
       "</div>"
      ],
      "text/plain": [
       "          Tmin       Tmax\n",
       "mean  6.156018  13.890153\n",
       "std   5.235341   6.490258"
      ]
     },
     "execution_count": 4,
     "metadata": {},
     "output_type": "execute_result"
    }
   ],
   "source": [
    "# get mean and sd for Tmin and Tmax\n",
    "weather.agg({'Tmin':['mean', 'std'], 'Tmax':['mean', 'std']})"
   ]
  },
  {
   "cell_type": "markdown",
   "id": "954b97a5",
   "metadata": {},
   "source": [
    "Finally, instead of doing that for the whole dataframe `weather`, you can select rows using `df.query()` as before:"
   ]
  },
  {
   "cell_type": "code",
   "execution_count": 5,
   "id": "3e05bf7f",
   "metadata": {},
   "outputs": [
    {
     "data": {
      "text/html": [
       "<div>\n",
       "<style scoped>\n",
       "    .dataframe tbody tr th:only-of-type {\n",
       "        vertical-align: middle;\n",
       "    }\n",
       "\n",
       "    .dataframe tbody tr th {\n",
       "        vertical-align: top;\n",
       "    }\n",
       "\n",
       "    .dataframe thead th {\n",
       "        text-align: right;\n",
       "    }\n",
       "</style>\n",
       "<table border=\"1\" class=\"dataframe\">\n",
       "  <thead>\n",
       "    <tr style=\"text-align: right;\">\n",
       "      <th></th>\n",
       "      <th>Tmin</th>\n",
       "      <th>Tmax</th>\n",
       "    </tr>\n",
       "  </thead>\n",
       "  <tbody>\n",
       "    <tr>\n",
       "      <th>mean</th>\n",
       "      <td>10.328291</td>\n",
       "      <td>20.011487</td>\n",
       "    </tr>\n",
       "    <tr>\n",
       "      <th>std</th>\n",
       "      <td>2.664211</td>\n",
       "      <td>3.585932</td>\n",
       "    </tr>\n",
       "  </tbody>\n",
       "</table>\n",
       "</div>"
      ],
      "text/plain": [
       "           Tmin       Tmax\n",
       "mean  10.328291  20.011487\n",
       "std    2.664211   3.585932"
      ]
     },
     "execution_count": 5,
     "metadata": {},
     "output_type": "execute_result"
    }
   ],
   "source": [
    "# get mean and sd for Tmin and Tmax in June\n",
    "weather.query('MM == 6').agg({'Tmin':['mean', 'std'], 'Tmax':['mean', 'std']})"
   ]
  },
  {
   "cell_type": "markdown",
   "id": "fa7a87b9",
   "metadata": {},
   "source": [
    "## Disaggregate by category: df.groupby()\n",
    "\n",
    "The syntax `df.groupby()` breaks a dataframe down by the categories you have chosen to group by. Any function you then apply will be done sparately for each of these categories.\n",
    "\n",
    "For example, say we want to report the mean value of the peak daily temperature in each month. Remember to get the mean value of the peak daily temperature overall we did:"
   ]
  },
  {
   "cell_type": "code",
   "execution_count": 7,
   "id": "868c724f",
   "metadata": {},
   "outputs": [
    {
     "data": {
      "text/plain": [
       "13.890153065515065"
      ]
     },
     "execution_count": 7,
     "metadata": {},
     "output_type": "execute_result"
    }
   ],
   "source": [
    "weather.Tmax.mean()"
   ]
  },
  {
   "cell_type": "markdown",
   "id": "0569da47",
   "metadata": {},
   "source": [
    "To break it down by month, we insert `.groupby('MM')`:"
   ]
  },
  {
   "cell_type": "code",
   "execution_count": 8,
   "id": "7473630f",
   "metadata": {},
   "outputs": [
    {
     "data": {
      "text/plain": [
       "MM\n",
       "1      6.554444\n",
       "2      7.401048\n",
       "3      9.944914\n",
       "4     13.187517\n",
       "5     16.795252\n",
       "6     20.011487\n",
       "7     21.799007\n",
       "8     21.192936\n",
       "9     18.451043\n",
       "10    14.112639\n",
       "11     9.640041\n",
       "12     7.290571\n",
       "Name: Tmax, dtype: float64"
      ]
     },
     "execution_count": 8,
     "metadata": {},
     "output_type": "execute_result"
    }
   ],
   "source": [
    "weather.groupby('MM').Tmax.mean()"
   ]
  },
  {
   "cell_type": "markdown",
   "id": "3368402c",
   "metadata": {},
   "source": [
    "We can of course combine `groupby()` with `agg()` to make a custom table for each group of data, eg"
   ]
  },
  {
   "cell_type": "code",
   "execution_count": 9,
   "id": "595e06b7",
   "metadata": {},
   "outputs": [
    {
     "data": {
      "text/html": [
       "<div>\n",
       "<style scoped>\n",
       "    .dataframe tbody tr th:only-of-type {\n",
       "        vertical-align: middle;\n",
       "    }\n",
       "\n",
       "    .dataframe tbody tr th {\n",
       "        vertical-align: top;\n",
       "    }\n",
       "\n",
       "    .dataframe thead tr th {\n",
       "        text-align: left;\n",
       "    }\n",
       "\n",
       "    .dataframe thead tr:last-of-type th {\n",
       "        text-align: right;\n",
       "    }\n",
       "</style>\n",
       "<table border=\"1\" class=\"dataframe\">\n",
       "  <thead>\n",
       "    <tr>\n",
       "      <th></th>\n",
       "      <th colspan=\"2\" halign=\"left\">Tmin</th>\n",
       "      <th colspan=\"2\" halign=\"left\">Tmax</th>\n",
       "    </tr>\n",
       "    <tr>\n",
       "      <th></th>\n",
       "      <th>mean</th>\n",
       "      <th>std</th>\n",
       "      <th>mean</th>\n",
       "      <th>std</th>\n",
       "    </tr>\n",
       "    <tr>\n",
       "      <th>MM</th>\n",
       "      <th></th>\n",
       "      <th></th>\n",
       "      <th></th>\n",
       "      <th></th>\n",
       "    </tr>\n",
       "  </thead>\n",
       "  <tbody>\n",
       "    <tr>\n",
       "      <th>1</th>\n",
       "      <td>1.319437</td>\n",
       "      <td>4.034070</td>\n",
       "      <td>6.554444</td>\n",
       "      <td>3.831624</td>\n",
       "    </tr>\n",
       "    <tr>\n",
       "      <th>2</th>\n",
       "      <td>1.470683</td>\n",
       "      <td>3.861644</td>\n",
       "      <td>7.401048</td>\n",
       "      <td>3.723290</td>\n",
       "    </tr>\n",
       "    <tr>\n",
       "      <th>3</th>\n",
       "      <td>2.396840</td>\n",
       "      <td>3.472544</td>\n",
       "      <td>9.944914</td>\n",
       "      <td>3.641816</td>\n",
       "    </tr>\n",
       "    <tr>\n",
       "      <th>4</th>\n",
       "      <td>4.301786</td>\n",
       "      <td>3.144024</td>\n",
       "      <td>13.187517</td>\n",
       "      <td>3.648047</td>\n",
       "    </tr>\n",
       "    <tr>\n",
       "      <th>5</th>\n",
       "      <td>7.165062</td>\n",
       "      <td>3.108733</td>\n",
       "      <td>16.795252</td>\n",
       "      <td>3.761523</td>\n",
       "    </tr>\n",
       "    <tr>\n",
       "      <th>6</th>\n",
       "      <td>10.328291</td>\n",
       "      <td>2.664211</td>\n",
       "      <td>20.011487</td>\n",
       "      <td>3.585932</td>\n",
       "    </tr>\n",
       "    <tr>\n",
       "      <th>7</th>\n",
       "      <td>12.238098</td>\n",
       "      <td>2.457236</td>\n",
       "      <td>21.799007</td>\n",
       "      <td>3.511055</td>\n",
       "    </tr>\n",
       "    <tr>\n",
       "      <th>8</th>\n",
       "      <td>11.965261</td>\n",
       "      <td>2.627916</td>\n",
       "      <td>21.192936</td>\n",
       "      <td>3.232944</td>\n",
       "    </tr>\n",
       "    <tr>\n",
       "      <th>9</th>\n",
       "      <td>9.824855</td>\n",
       "      <td>3.241090</td>\n",
       "      <td>18.451043</td>\n",
       "      <td>3.088003</td>\n",
       "    </tr>\n",
       "    <tr>\n",
       "      <th>10</th>\n",
       "      <td>6.874028</td>\n",
       "      <td>3.825368</td>\n",
       "      <td>14.112639</td>\n",
       "      <td>3.090256</td>\n",
       "    </tr>\n",
       "    <tr>\n",
       "      <th>11</th>\n",
       "      <td>3.692014</td>\n",
       "      <td>3.870762</td>\n",
       "      <td>9.640041</td>\n",
       "      <td>3.254649</td>\n",
       "    </tr>\n",
       "    <tr>\n",
       "      <th>12</th>\n",
       "      <td>2.067461</td>\n",
       "      <td>4.131333</td>\n",
       "      <td>7.290571</td>\n",
       "      <td>3.801597</td>\n",
       "    </tr>\n",
       "  </tbody>\n",
       "</table>\n",
       "</div>"
      ],
      "text/plain": [
       "         Tmin                 Tmax          \n",
       "         mean       std       mean       std\n",
       "MM                                          \n",
       "1    1.319437  4.034070   6.554444  3.831624\n",
       "2    1.470683  3.861644   7.401048  3.723290\n",
       "3    2.396840  3.472544   9.944914  3.641816\n",
       "4    4.301786  3.144024  13.187517  3.648047\n",
       "5    7.165062  3.108733  16.795252  3.761523\n",
       "6   10.328291  2.664211  20.011487  3.585932\n",
       "7   12.238098  2.457236  21.799007  3.511055\n",
       "8   11.965261  2.627916  21.192936  3.232944\n",
       "9    9.824855  3.241090  18.451043  3.088003\n",
       "10   6.874028  3.825368  14.112639  3.090256\n",
       "11   3.692014  3.870762   9.640041  3.254649\n",
       "12   2.067461  4.131333   7.290571  3.801597"
      ]
     },
     "execution_count": 9,
     "metadata": {},
     "output_type": "execute_result"
    }
   ],
   "source": [
    "# get mean and sd for Tmin and Tmax in each mmonth\n",
    "weather.groupby('MM').agg({'Tmin':['mean', 'std'], 'Tmax':['mean', 'std']})"
   ]
  },
  {
   "cell_type": "markdown",
   "id": "2011b979",
   "metadata": {},
   "source": [
    "* **Note** `groupby()` is handy to break down datasets according to a categorical variable. In this sense it works similarly to the `hue` argument in some of the plotting functions you will see next week, which allows us to plot data sepaarately for different cases of a categoricaal variable."
   ]
  },
  {
   "cell_type": "code",
   "execution_count": null,
   "id": "f0dcfbca",
   "metadata": {},
   "outputs": [],
   "source": []
  }
 ],
 "metadata": {
  "kernelspec": {
   "display_name": "Python 3 (ipykernel)",
   "language": "python",
   "name": "python3"
  },
  "language_info": {
   "codemirror_mode": {
    "name": "ipython",
    "version": 3
   },
   "file_extension": ".py",
   "mimetype": "text/x-python",
   "name": "python",
   "nbconvert_exporter": "python",
   "pygments_lexer": "ipython3",
   "version": "3.9.18"
  }
 },
 "nbformat": 4,
 "nbformat_minor": 5
}