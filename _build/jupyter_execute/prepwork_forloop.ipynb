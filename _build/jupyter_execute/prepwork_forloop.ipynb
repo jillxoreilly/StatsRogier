{
 "cells": [
  {
   "cell_type": "markdown",
   "id": "8716d8ff",
   "metadata": {},
   "source": [
    "# The <tt>for</tt> loop\n",
    "\n",
    "The thing computers are really good at is repeating a calculation lots of times\n",
    "\n",
    "One way to do this is using a loop\n",
    "\n",
    "Here we meet the <tt>for</tt> loop (there is also such thing as a <tt>while</tt> loop which we will meet later)"
   ]
  },
  {
   "cell_type": "markdown",
   "id": "554bd33b",
   "metadata": {},
   "source": [
    "### Set up Python libraries\n",
    "\n",
    "As usual, run the code cell below to import the relevant Python libraries"
   ]
  },
  {
   "cell_type": "code",
   "execution_count": 1,
   "id": "6e215164",
   "metadata": {},
   "outputs": [],
   "source": [
    "# Set-up Python libraries - you need to run this but you don't need to change it\n",
    "import numpy as np\n",
    "import matplotlib.pyplot as plt\n",
    "import scipy.stats as stats\n",
    "import pandas \n",
    "import seaborn as sns\n",
    "sns.set_theme()"
   ]
  },
  {
   "cell_type": "markdown",
   "id": "3885a8a8",
   "metadata": {},
   "source": [
    "## Example: \"hello, hello, hello\"\n",
    "\n",
    "Say we want to repeat something a few times, like saying hello\n",
    "\n",
    "We can get the computer to do this using a for loop"
   ]
  },
  {
   "cell_type": "code",
   "execution_count": 2,
   "id": "c91c0917",
   "metadata": {},
   "outputs": [
    {
     "name": "stdout",
     "output_type": "stream",
     "text": [
      "i = 0\n",
      "hello!\n",
      "i = 1\n",
      "hello!\n",
      "i = 2\n",
      "hello!\n"
     ]
    }
   ],
   "source": [
    "for i in range(3):\n",
    "    print(\"i = \" + str(i))\n",
    "    print(\"hello!\")"
   ]
  },
  {
   "cell_type": "markdown",
   "id": "b28813de",
   "metadata": {},
   "source": [
    "<ul>\n",
    "<li>See if you can change the code to say \"hello\" five times\n",
    "</ul>\n",
    "\n",
    "We can also use the <tt>for</tt> loop to do the same operation for every member of a list:"
   ]
  },
  {
   "cell_type": "code",
   "execution_count": 3,
   "id": "9f54d8f6",
   "metadata": {},
   "outputs": [
    {
     "name": "stdout",
     "output_type": "stream",
     "text": [
      "number of friends is 3\n",
      "i = 0\n",
      "Hello Alan!\n",
      "i = 1\n",
      "Hello Barry!\n",
      "i = 2\n",
      "Hello Craig!\n"
     ]
    }
   ],
   "source": [
    "friends = ['Alan','Barry','Craig']\n",
    "print('number of friends is ' + str(len(friends)))\n",
    "\n",
    "\n",
    "for i in range(len(friends)):\n",
    "    print(\"i = \" + str(i))\n",
    "    print(\"Hello \" + friends[i] + \"!\")\n"
   ]
  },
  {
   "cell_type": "markdown",
   "id": "9c4c1ce1",
   "metadata": {},
   "source": [
    "<ul>\n",
    "    <li> What does <tt>len(friends)</tt> do? (Hint - check 'number of friends is...')\n",
    "    <li> What does <tt>range(len(friends))</tt> do? (Hint - check what <tt>range(3)</tt> did above\n",
    "</ul>"
   ]
  },
  {
   "cell_type": "markdown",
   "id": "9ad34b58",
   "metadata": {},
   "source": [
    "### Exercise: when to eat shellfish\n",
    "\n",
    "It is said that you should only eat shellfish in months that don't have \"r\" in the name.\n",
    "\n",
    "We can check whether a month has an r in the name using the test <tt>in</tt>, which returns <tt>True</tt> or <tt>False</tt>:"
   ]
  },
  {
   "cell_type": "code",
   "execution_count": 4,
   "id": "40ba1705",
   "metadata": {},
   "outputs": [
    {
     "data": {
      "text/plain": [
       "True"
      ]
     },
     "execution_count": 4,
     "metadata": {},
     "output_type": "execute_result"
    }
   ],
   "source": [
    "month = \"January\"\n",
    "\"r\" in month"
   ]
  },
  {
   "cell_type": "code",
   "execution_count": 5,
   "id": "8af62bfb",
   "metadata": {},
   "outputs": [
    {
     "data": {
      "text/plain": [
       "False"
      ]
     },
     "execution_count": 5,
     "metadata": {},
     "output_type": "execute_result"
    }
   ],
   "source": [
    "month = \"May\"\n",
    "\"r\" in month"
   ]
  },
  {
   "cell_type": "markdown",
   "id": "8cb7fbad",
   "metadata": {},
   "source": [
    "We can set up an <tt>if</tt> statement to print different statements depending on whether there is an r in the name of the month"
   ]
  },
  {
   "cell_type": "code",
   "execution_count": 6,
   "id": "342d0256",
   "metadata": {},
   "outputs": [
    {
     "name": "stdout",
     "output_type": "stream",
     "text": [
      "Do eat shellfish in August\n"
     ]
    }
   ],
   "source": [
    "month = \"August\"\n",
    "\n",
    "if (\"r\" in month):\n",
    "    print('Don\\'t eat shellfish in ' + month)\n",
    "else:\n",
    "    print('Do eat shellfish in ' + month)   "
   ]
  },
  {
   "cell_type": "markdown",
   "id": "90407202",
   "metadata": {},
   "source": [
    "Now can you make a <tt>for</tt> loop that checks every month and prints a sentence about whether to eat shellfish, as in the <tt>if</tt> statement above?"
   ]
  },
  {
   "cell_type": "code",
   "execution_count": 7,
   "id": "8e1c8245",
   "metadata": {},
   "outputs": [
    {
     "name": "stdout",
     "output_type": "stream",
     "text": [
      "Don't eat shellfish in January\n",
      "Don't eat shellfish in February\n",
      "Don't eat shellfish in March\n",
      "Don't eat shellfish in April\n",
      "Do eat shellfish in May\n",
      "Do eat shellfish in June\n",
      "Do eat shellfish in July\n",
      "Do eat shellfish in August\n",
      "Don't eat shellfish in September\n",
      "Don't eat shellfish in October\n",
      "Don't eat shellfish in November\n",
      "Don't eat shellfish in Decemeber\n"
     ]
    }
   ],
   "source": [
    "months=['January','February','March','April','May','June',\n",
    "        'July','August','September','October','November','Decemeber']\n",
    "\n",
    "for i in range(12): # complete the code\n",
    "    if (\"r\" in months[i]):\n",
    "        print('Don\\'t eat shellfish in ' + months[i])\n",
    "    else:\n",
    "        print('Do eat shellfish in ' + months[i]) \n",
    "        \n"
   ]
  },
  {
   "cell_type": "markdown",
   "id": "b54d85db",
   "metadata": {},
   "source": [
    "## Example: adding up numbers\n",
    "\n",
    "Say we want to add up all the numbers from 1 to 10. \n",
    "\n",
    "We could do it like this:"
   ]
  },
  {
   "cell_type": "code",
   "execution_count": 8,
   "id": "12460d7c",
   "metadata": {},
   "outputs": [
    {
     "name": "stdout",
     "output_type": "stream",
     "text": [
      "sum = 55\n"
     ]
    }
   ],
   "source": [
    "s = 1+2+3+4+5+6+7+8+9+10\n",
    "print('sum = ' + str(s))"
   ]
  },
  {
   "cell_type": "markdown",
   "id": "2fba5fbf",
   "metadata": {},
   "source": [
    "... but that would get annoying if we wanted to add up, say, the numbers from 1 to 100.\n",
    "\n",
    "Let's try another way.\n",
    "\n",
    "First let's get an array with the numbers 1-10 in it using the <tt>numpy</tt> function <tt>np.arange</tt>"
   ]
  },
  {
   "cell_type": "code",
   "execution_count": 9,
   "id": "af37779f",
   "metadata": {},
   "outputs": [
    {
     "name": "stdout",
     "output_type": "stream",
     "text": [
      "[1 2 3 4 5 6 7 8 9]\n"
     ]
    }
   ],
   "source": [
    "numbers = np.arange(start=1, stop=10, step=1)\n",
    "print(numbers)"
   ]
  },
  {
   "cell_type": "markdown",
   "id": "f089fd7d",
   "metadata": {},
   "source": [
    "Oops, I forgot in Python the upper bound of the range is always left out - so if I want to stop at 10 (rather than 9) I need to do this:"
   ]
  },
  {
   "cell_type": "code",
   "execution_count": 10,
   "id": "70624e5a",
   "metadata": {},
   "outputs": [
    {
     "name": "stdout",
     "output_type": "stream",
     "text": [
      "[ 1  2  3  4  5  6  7  8  9 10]\n"
     ]
    }
   ],
   "source": [
    "numbers = np.arange(start=1, stop=10+1, step=1)\n",
    "print(numbers)"
   ]
  },
  {
   "cell_type": "markdown",
   "id": "cb020eaa",
   "metadata": {},
   "source": [
    "### Loop: add one number at a time\n",
    "\n",
    "Let's create a variable called s which is the sum of the numbers. \n",
    "\n",
    "Initially, s is zero"
   ]
  },
  {
   "cell_type": "code",
   "execution_count": 11,
   "id": "497e8510",
   "metadata": {},
   "outputs": [],
   "source": [
    "s = 0"
   ]
  },
  {
   "cell_type": "markdown",
   "id": "8da5b022",
   "metadata": {},
   "source": [
    "Then we can add each element of our array <tt>numbers</tt> in turn"
   ]
  },
  {
   "cell_type": "code",
   "execution_count": 12,
   "id": "c27f395f",
   "metadata": {},
   "outputs": [
    {
     "name": "stdout",
     "output_type": "stream",
     "text": [
      "1\n"
     ]
    }
   ],
   "source": [
    "s = 0\n",
    "s = s+numbers[0] # remember the first number in the list is indexed '0' not '1'!\n",
    "print(s)"
   ]
  },
  {
   "cell_type": "markdown",
   "id": "e607ac3e",
   "metadata": {},
   "source": [
    "and the rest..."
   ]
  },
  {
   "cell_type": "code",
   "execution_count": 13,
   "id": "501fb414",
   "metadata": {},
   "outputs": [
    {
     "name": "stdout",
     "output_type": "stream",
     "text": [
      "1\n",
      "3\n",
      "6\n",
      "10\n",
      "15\n",
      "21\n",
      "28\n",
      "36\n",
      "45\n",
      "55\n"
     ]
    }
   ],
   "source": [
    "s = 0\n",
    "s = s+numbers[0] \n",
    "print(s)\n",
    "s = s+numbers[1] \n",
    "print(s)\n",
    "s = s+numbers[2] \n",
    "print(s)\n",
    "s = s+numbers[3] \n",
    "print(s)\n",
    "s = s+numbers[4] \n",
    "print(s)\n",
    "s = s+numbers[5] \n",
    "print(s)\n",
    "s = s+numbers[6] \n",
    "print(s)\n",
    "s = s+numbers[7] \n",
    "print(s)\n",
    "s = s+numbers[8] \n",
    "print(s)\n",
    "s = s+numbers[9] # remember the last one is in position 9, not 10!\n",
    "print(s)"
   ]
  },
  {
   "cell_type": "markdown",
   "id": "f147d28c",
   "metadata": {},
   "source": [
    "Ooph, that was cumbersome!\n",
    "\n",
    "We an avoid typing the commands every time by doing a loop"
   ]
  },
  {
   "cell_type": "code",
   "execution_count": 14,
   "id": "02b4e411",
   "metadata": {},
   "outputs": [
    {
     "name": "stdout",
     "output_type": "stream",
     "text": [
      "1\n",
      "3\n",
      "6\n",
      "10\n",
      "15\n",
      "21\n",
      "28\n",
      "36\n",
      "45\n",
      "55\n"
     ]
    }
   ],
   "source": [
    "s=0\n",
    "numbers = np.arange(start=1, stop=10+1, step=1)\n",
    "for i in range(len(numbers)):\n",
    "    s=s+numbers[i]\n",
    "    print(s)"
   ]
  },
  {
   "cell_type": "markdown",
   "id": "7052b4e5",
   "metadata": {},
   "source": [
    "We don't even need to print <tt>s</tt> out every time, just at the end\n",
    "\n",
    "We signal the end of the loop by the end of the indenting:"
   ]
  },
  {
   "cell_type": "code",
   "execution_count": 15,
   "id": "e1ba19cd",
   "metadata": {},
   "outputs": [
    {
     "name": "stdout",
     "output_type": "stream",
     "text": [
      "55\n"
     ]
    }
   ],
   "source": [
    "s=0\n",
    "numbers = np.arange(start=1, stop=10+1, step=1)\n",
    "for i in range(len(numbers)):\n",
    "    s=s+numbers[i]\n",
    "    \n",
    "print(s)"
   ]
  },
  {
   "cell_type": "markdown",
   "id": "7e33721a",
   "metadata": {},
   "source": [
    "We can make our loop generalizable using a variable $n$ for the number up to which we are summing integers:"
   ]
  },
  {
   "cell_type": "code",
   "execution_count": 16,
   "id": "8fcf1c7d",
   "metadata": {},
   "outputs": [
    {
     "name": "stdout",
     "output_type": "stream",
     "text": [
      "55\n"
     ]
    }
   ],
   "source": [
    "n=10\n",
    "s=0\n",
    "numbers = np.arange(start=1, stop=n+1, step=1)\n",
    "for i in range(len(numbers)):\n",
    "    s=s+numbers[i]\n",
    "    \n",
    "print(s)"
   ]
  },
  {
   "cell_type": "markdown",
   "id": "fd5e47a7",
   "metadata": {},
   "source": [
    "### Exercises:\n",
    "\n",
    "<ul>\n",
    "<li> Can you edit the loop above so it sums the numbers to n=100 ?\n",
    "<li> What about obtaining the sum of the numbers [0.1, 0.2, 0.3 ..... 0.9, 1.0]? \n",
    "</ul>\n"
   ]
  },
  {
   "cell_type": "markdown",
   "id": "e6c92779",
   "metadata": {},
   "source": [
    "\n",
    "### Aside\n",
    "\n",
    "We can actually work out the sum of the numbers to $n$ using the formula \n",
    "\n",
    "$s_n = \\frac{n(n+1)}{2}$\n",
    "\n",
    "You can think of it as a series of 101 pairs that each add to 100: \n",
    "    <ul list-style-type=\"none\">\n",
    "    <li>0+100 = 100\n",
    "    <li>1+99 = 100\n",
    "    <li>2+98 = 100\n",
    "    <li>3+97 = 100\n",
    "    </ul>\n",
    "    <ul>\n",
    "    <li>49+51 = 100\n",
    "    <li>50+50 = 100\n",
    "    </ul>\n",
    "    \n",
    "This formula has been known since the time of Pythagoras.\n",
    "\n",
    "One charming story about the great mathematician Euler is that when he was in infant school, the master gave the task of summing numbers to 100 to keep the children quiet for a while. Within a few seconds Euler was at his desk with the answer, having immediately perceived that the solution above could be used.\n"
   ]
  },
  {
   "cell_type": "markdown",
   "id": "d51d5b47",
   "metadata": {},
   "source": [
    "## Example: Fibonacci Sequence\n",
    "\n",
    "The Fibonacci Sequence is a sequence of numbers that begins [0,1,...] and continues by adding together the two previous numbers such that \n",
    "\n",
    "$$ x_i = x_{i-1} + x_{i-2} $$\n",
    "\n",
    "The sequence begins [0, 1, 1, 2, 3, 5, 8, 13..... ] and goes on forever.\n",
    "\n",
    "You can find some fun facts about the Fibonacci sequence <a href=\"https://www.mathsisfun.com/numbers/fibonacci-sequence.html\">here</a>:\n",
    "\n",
    "Let's make a <tt>for</tt> loop to calculate the first 10 elements of the Fibonacci sequence "
   ]
  },
  {
   "cell_type": "code",
   "execution_count": 17,
   "id": "cae0c1a5",
   "metadata": {},
   "outputs": [
    {
     "ename": "SyntaxError",
     "evalue": "invalid syntax (2567889058.py, line 9)",
     "output_type": "error",
     "traceback": [
      "\u001b[0;36m  Cell \u001b[0;32mIn[17], line 9\u001b[0;36m\u001b[0m\n\u001b[0;31m    fibonaccis[i] = # your code here to calculate the ith Fibonacci number\u001b[0m\n\u001b[0m                    ^\u001b[0m\n\u001b[0;31mSyntaxError\u001b[0m\u001b[0;31m:\u001b[0m invalid syntax\n"
     ]
    }
   ],
   "source": [
    "n = 10 # number of elements to calculate\n",
    "fibonaccis = np.empty(n) \n",
    "\n",
    "# get the sequence started\n",
    "fibonaccis[0] = 0\n",
    "fibonaccis[1] = 1\n",
    "\n",
    "for i in range(2,n): # start in place 2 as we already set the first two elements of the sequence (places 0 and 1)\n",
    "    fibonaccis[i] = # your code here to calculate the ith Fibonacci number\n",
    "    \n",
    "plt.plot(fibonaccis,'.-')\n",
    "plt.xlabel('$i$')\n",
    "plt.ylabel('$x_i$')"
   ]
  },
  {
   "cell_type": "code",
   "execution_count": null,
   "id": "4b7118eb",
   "metadata": {},
   "outputs": [],
   "source": []
  }
 ],
 "metadata": {
  "kernelspec": {
   "display_name": "Python 3 (ipykernel)",
   "language": "python",
   "name": "python3"
  },
  "language_info": {
   "codemirror_mode": {
    "name": "ipython",
    "version": 3
   },
   "file_extension": ".py",
   "mimetype": "text/x-python",
   "name": "python",
   "nbconvert_exporter": "python",
   "pygments_lexer": "ipython3",
   "version": "3.9.18"
  }
 },
 "nbformat": 4,
 "nbformat_minor": 5
}