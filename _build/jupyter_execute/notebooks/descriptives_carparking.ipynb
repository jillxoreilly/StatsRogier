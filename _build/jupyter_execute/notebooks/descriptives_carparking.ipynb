{
 "cells": [
  {
   "cell_type": "markdown",
   "id": "e5a2a6bc",
   "metadata": {},
   "source": [
    "# Descriptive statistics with Python\n",
    "\n",
    "[![Open In Colab](https://colab.research.google.com/assets/colab-badge.svg)](https://colab.research.google.com/github/jillxoreilly/StatsCourse/blob/main/Car%20Parking%20Exercise%201.ipynb#)"
   ]
  },
  {
   "cell_type": "markdown",
   "id": "75e93be0",
   "metadata": {},
   "source": [
    "## Car park exercise\n",
    "\n",
    "In this exercise, you will plan car parking at a ferry terminal and inside the ferry itself. \n",
    "\n",
    "You will be given data about the lengths of vehicles in a <tt>.csv</tt> file. By plotting the data and calculating descriptive statististics, you will produce a short report recommending the size and number of parking spots required."
   ]
  },
  {
   "cell_type": "markdown",
   "id": "abc9bef7",
   "metadata": {},
   "source": [
    "<div style = \"    padding-top: 10px;\n",
    "    padding-bottom: 10px;\n",
    "    padding-left: 10px;\n",
    "    padding-right: 10px;\n",
    "    box-shadow: 0px 8px 16px 0px rgba(0,0,0,0.2);\n",
    "    vertical-align: middle;\">\n",
    "    \n",
    "<h2>The brief:</h2> \n",
    "\n",
    "The SpeedyFerry Company are planning a new terminal. Vehicles will arrive at the terminal in advance of their sailing time and be parked in a car park to await boarding.\n",
    "\n",
    "SpeedyFerry would like to know how to mark out the car park. They want to fit as many parking spaces into their land as possible, whilst still making sure that the vehicles fit in the spaces\n",
    "    <ul>\n",
    "<li> How long and wide should the parking spots be?\n",
    "<li> Should different vehicle types be separated in different sections of the car park?\n",
    "<li> If so, what ratio of long vehicle places to short vehicle places is needed?\n",
    "        </ul>\n",
    "    \n",
    "<b>Your task is to produce a report answering these questions, justifying you answer with plots and descriptive statistics based on the sample data provided by SpeedyFerry, introduced below</b>\n",
    "</div>\n",
    "\n",
    "<img src=\"images/carsBanner.png\" width=100% alt=\"Picture of some cars\" >"
   ]
  },
  {
   "cell_type": "markdown",
   "id": "554bd33b",
   "metadata": {},
   "source": [
    "### Set up Python libraries\n",
    "\n",
    "As usual, run the code cell below to import the relevant Python libraries"
   ]
  },
  {
   "cell_type": "code",
   "execution_count": 1,
   "id": "6e215164",
   "metadata": {},
   "outputs": [],
   "source": [
    "# Set-up Python libraries - you need to run this but you don't need to change it\n",
    "import numpy as np\n",
    "import matplotlib.pyplot as plt\n",
    "import scipy.stats as stats\n",
    "import pandas \n",
    "import seaborn as sns\n",
    "sns.set_theme()"
   ]
  },
  {
   "cell_type": "markdown",
   "id": "7fe15a08",
   "metadata": {},
   "source": [
    "### Load and view the data\n",
    "\n",
    "To make our plan for car parking, we need some information about the vehicles to be accommodated.\n",
    "\n",
    "SpeedyFerry have provided a data file with a complete list of the vehicles parked at a vehicle-ferry terminal at 1pm on Sunday 24th April 2022, which they regard as a representative sample.\n",
    "\n",
    "Let's load the datafile \"data/vehicles.csv\" and have a look what information we have in the dataset"
   ]
  },
  {
   "cell_type": "code",
   "execution_count": 2,
   "id": "71268ed1",
   "metadata": {},
   "outputs": [
    {
     "data": {
      "text/html": [
       "<div>\n",
       "<style scoped>\n",
       "    .dataframe tbody tr th:only-of-type {\n",
       "        vertical-align: middle;\n",
       "    }\n",
       "\n",
       "    .dataframe tbody tr th {\n",
       "        vertical-align: top;\n",
       "    }\n",
       "\n",
       "    .dataframe thead th {\n",
       "        text-align: right;\n",
       "    }\n",
       "</style>\n",
       "<table border=\"1\" class=\"dataframe\">\n",
       "  <thead>\n",
       "    <tr style=\"text-align: right;\">\n",
       "      <th></th>\n",
       "      <th>length</th>\n",
       "      <th>height</th>\n",
       "      <th>width</th>\n",
       "      <th>type</th>\n",
       "    </tr>\n",
       "  </thead>\n",
       "  <tbody>\n",
       "    <tr>\n",
       "      <th>0</th>\n",
       "      <td>3.9187</td>\n",
       "      <td>1.5320</td>\n",
       "      <td>1.8030</td>\n",
       "      <td>car</td>\n",
       "    </tr>\n",
       "    <tr>\n",
       "      <th>1</th>\n",
       "      <td>4.6486</td>\n",
       "      <td>1.5936</td>\n",
       "      <td>1.6463</td>\n",
       "      <td>car</td>\n",
       "    </tr>\n",
       "    <tr>\n",
       "      <th>2</th>\n",
       "      <td>3.5785</td>\n",
       "      <td>1.5447</td>\n",
       "      <td>1.7140</td>\n",
       "      <td>car</td>\n",
       "    </tr>\n",
       "    <tr>\n",
       "      <th>3</th>\n",
       "      <td>3.5563</td>\n",
       "      <td>1.5549</td>\n",
       "      <td>1.7331</td>\n",
       "      <td>car</td>\n",
       "    </tr>\n",
       "    <tr>\n",
       "      <th>4</th>\n",
       "      <td>4.0321</td>\n",
       "      <td>1.5069</td>\n",
       "      <td>1.7320</td>\n",
       "      <td>car</td>\n",
       "    </tr>\n",
       "    <tr>\n",
       "      <th>...</th>\n",
       "      <td>...</td>\n",
       "      <td>...</td>\n",
       "      <td>...</td>\n",
       "      <td>...</td>\n",
       "    </tr>\n",
       "    <tr>\n",
       "      <th>1359</th>\n",
       "      <td>15.5000</td>\n",
       "      <td>4.2065</td>\n",
       "      <td>2.5112</td>\n",
       "      <td>truck</td>\n",
       "    </tr>\n",
       "    <tr>\n",
       "      <th>1360</th>\n",
       "      <td>14.4960</td>\n",
       "      <td>4.1965</td>\n",
       "      <td>2.5166</td>\n",
       "      <td>truck</td>\n",
       "    </tr>\n",
       "    <tr>\n",
       "      <th>1361</th>\n",
       "      <td>15.9890</td>\n",
       "      <td>4.1964</td>\n",
       "      <td>2.4757</td>\n",
       "      <td>truck</td>\n",
       "    </tr>\n",
       "    <tr>\n",
       "      <th>1362</th>\n",
       "      <td>14.3700</td>\n",
       "      <td>4.2009</td>\n",
       "      <td>2.5047</td>\n",
       "      <td>truck</td>\n",
       "    </tr>\n",
       "    <tr>\n",
       "      <th>1363</th>\n",
       "      <td>14.2350</td>\n",
       "      <td>4.2016</td>\n",
       "      <td>2.5212</td>\n",
       "      <td>truck</td>\n",
       "    </tr>\n",
       "  </tbody>\n",
       "</table>\n",
       "<p>1364 rows × 4 columns</p>\n",
       "</div>"
      ],
      "text/plain": [
       "       length  height   width   type\n",
       "0      3.9187  1.5320  1.8030    car\n",
       "1      4.6486  1.5936  1.6463    car\n",
       "2      3.5785  1.5447  1.7140    car\n",
       "3      3.5563  1.5549  1.7331    car\n",
       "4      4.0321  1.5069  1.7320    car\n",
       "...       ...     ...     ...    ...\n",
       "1359  15.5000  4.2065  2.5112  truck\n",
       "1360  14.4960  4.1965  2.5166  truck\n",
       "1361  15.9890  4.1964  2.4757  truck\n",
       "1362  14.3700  4.2009  2.5047  truck\n",
       "1363  14.2350  4.2016  2.5212  truck\n",
       "\n",
       "[1364 rows x 4 columns]"
      ]
     },
     "metadata": {},
     "output_type": "display_data"
    }
   ],
   "source": [
    "vehicles = pandas.read_csv('https://raw.githubusercontent.com/jillxoreilly/StatsCourse/main/data/vehicles.csv')\n",
    "display(vehicles)"
   ]
  },
  {
   "cell_type": "markdown",
   "id": "cb03e0d0",
   "metadata": {},
   "source": [
    "That was a long list of vehicles!\n",
    "\n",
    "* What information do we have about each vehicle?"
   ]
  },
  {
   "cell_type": "markdown",
   "id": "b0ab845f",
   "metadata": {},
   "source": [
    "### Obtain descriptive statistics\n",
    "\n",
    "We can use built in functions in <tt>pandas</tt> to return the mean, standard deviation and centiles (incluing the median and quartiles) of the data.\n",
    "\n",
    "Let's get some descriptives for the length of vehicles:"
   ]
  },
  {
   "cell_type": "code",
   "execution_count": 3,
   "id": "6a7a16db",
   "metadata": {},
   "outputs": [
    {
     "data": {
      "text/plain": [
       "6.722971847507331"
      ]
     },
     "execution_count": 3,
     "metadata": {},
     "output_type": "execute_result"
    }
   ],
   "source": [
    "# the mean length\n",
    "vehicles['length'].mean()"
   ]
  },
  {
   "cell_type": "code",
   "execution_count": 4,
   "id": "2daa972f",
   "metadata": {},
   "outputs": [
    {
     "data": {
      "text/plain": [
       "4.4193"
      ]
     },
     "execution_count": 4,
     "metadata": {},
     "output_type": "execute_result"
    }
   ],
   "source": [
    "# the median length\n",
    "vehicles['length'].median()"
   ]
  },
  {
   "cell_type": "code",
   "execution_count": 5,
   "id": "8be63cfd",
   "metadata": {},
   "outputs": [
    {
     "data": {
      "text/plain": [
       "4.4193"
      ]
     },
     "execution_count": 5,
     "metadata": {},
     "output_type": "execute_result"
    }
   ],
   "source": [
    "# the median, which is the 50th centile of 0.5 quantile\n",
    "vehicles['length'].quantile(0.5)"
   ]
  },
  {
   "cell_type": "code",
   "execution_count": 6,
   "id": "e8568437",
   "metadata": {},
   "outputs": [
    {
     "data": {
      "text/plain": [
       "5.330875"
      ]
     },
     "execution_count": 6,
     "metadata": {},
     "output_type": "execute_result"
    }
   ],
   "source": [
    "# The inter quartile range, which is the difference between the 25th and 75th centile or the 0,25 and 0,75 quantile\n",
    "vehicles['length'].quantile(0.75)-vehicles['length'].quantile(0.25)"
   ]
  },
  {
   "cell_type": "markdown",
   "id": "7f77d786",
   "metadata": {},
   "source": [
    "We can make life easier by using the function <a href=\"https://pandas.pydata.org/docs/reference/api/pandas.DataFrame.describe.html\"><tt>pandas.describe()</tt></a>, which spits out all the most commonly used descriptive statistics:"
   ]
  },
  {
   "cell_type": "code",
   "execution_count": 7,
   "id": "2d8044f6",
   "metadata": {},
   "outputs": [
    {
     "data": {
      "text/plain": [
       "count    1364.000000\n",
       "mean        6.722972\n",
       "std         4.232075\n",
       "min         3.110900\n",
       "25%         3.929450\n",
       "50%         4.419300\n",
       "75%         9.260325\n",
       "max        16.231000\n",
       "Name: length, dtype: float64"
      ]
     },
     "execution_count": 7,
     "metadata": {},
     "output_type": "execute_result"
    }
   ],
   "source": [
    "vehicles['length'].describe()"
   ]
  },
  {
   "cell_type": "markdown",
   "id": "ab750dd8",
   "metadata": {},
   "source": [
    "Indeed, we don't need to limit ourselves to length - \n",
    "we can get descriptives for all numeric columns in the dataframe at once"
   ]
  },
  {
   "cell_type": "code",
   "execution_count": 8,
   "id": "ce742328",
   "metadata": {},
   "outputs": [
    {
     "data": {
      "text/html": [
       "<div>\n",
       "<style scoped>\n",
       "    .dataframe tbody tr th:only-of-type {\n",
       "        vertical-align: middle;\n",
       "    }\n",
       "\n",
       "    .dataframe tbody tr th {\n",
       "        vertical-align: top;\n",
       "    }\n",
       "\n",
       "    .dataframe thead th {\n",
       "        text-align: right;\n",
       "    }\n",
       "</style>\n",
       "<table border=\"1\" class=\"dataframe\">\n",
       "  <thead>\n",
       "    <tr style=\"text-align: right;\">\n",
       "      <th></th>\n",
       "      <th>length</th>\n",
       "      <th>height</th>\n",
       "      <th>width</th>\n",
       "    </tr>\n",
       "  </thead>\n",
       "  <tbody>\n",
       "    <tr>\n",
       "      <th>count</th>\n",
       "      <td>1364.000000</td>\n",
       "      <td>1364.000000</td>\n",
       "      <td>1364.000000</td>\n",
       "    </tr>\n",
       "    <tr>\n",
       "      <th>mean</th>\n",
       "      <td>6.722972</td>\n",
       "      <td>2.234867</td>\n",
       "      <td>1.981283</td>\n",
       "    </tr>\n",
       "    <tr>\n",
       "      <th>std</th>\n",
       "      <td>4.232075</td>\n",
       "      <td>1.072685</td>\n",
       "      <td>0.309353</td>\n",
       "    </tr>\n",
       "    <tr>\n",
       "      <th>min</th>\n",
       "      <td>3.110900</td>\n",
       "      <td>1.430400</td>\n",
       "      <td>1.624100</td>\n",
       "    </tr>\n",
       "    <tr>\n",
       "      <th>25%</th>\n",
       "      <td>3.929450</td>\n",
       "      <td>1.553600</td>\n",
       "      <td>1.771800</td>\n",
       "    </tr>\n",
       "    <tr>\n",
       "      <th>50%</th>\n",
       "      <td>4.419300</td>\n",
       "      <td>1.601250</td>\n",
       "      <td>1.812950</td>\n",
       "    </tr>\n",
       "    <tr>\n",
       "      <th>75%</th>\n",
       "      <td>9.260325</td>\n",
       "      <td>2.911750</td>\n",
       "      <td>2.254650</td>\n",
       "    </tr>\n",
       "    <tr>\n",
       "      <th>max</th>\n",
       "      <td>16.231000</td>\n",
       "      <td>4.213700</td>\n",
       "      <td>2.546700</td>\n",
       "    </tr>\n",
       "  </tbody>\n",
       "</table>\n",
       "</div>"
      ],
      "text/plain": [
       "            length       height        width\n",
       "count  1364.000000  1364.000000  1364.000000\n",
       "mean      6.722972     2.234867     1.981283\n",
       "std       4.232075     1.072685     0.309353\n",
       "min       3.110900     1.430400     1.624100\n",
       "25%       3.929450     1.553600     1.771800\n",
       "50%       4.419300     1.601250     1.812950\n",
       "75%       9.260325     2.911750     2.254650\n",
       "max      16.231000     4.213700     2.546700"
      ]
     },
     "execution_count": 8,
     "metadata": {},
     "output_type": "execute_result"
    }
   ],
   "source": [
    "vehicles.describe()"
   ]
  },
  {
   "cell_type": "markdown",
   "id": "72367436",
   "metadata": {},
   "source": [
    "## Grouping data"
   ]
  },
  {
   "cell_type": "markdown",
   "id": "cc99224d",
   "metadata": {},
   "source": [
    "You can see above that the mean length of vehicles in the car park is 6.72m.\n",
    "\n",
    "This is surprising as it is rather longer than even a large family car\n",
    "\n",
    "To get a better sense of the length data, I am going to plot them. \n",
    "\n",
    "Don't worry too much about the plotting code for now, as there are dedicated exercises on plotting later."
   ]
  },
  {
   "cell_type": "code",
   "execution_count": 9,
   "id": "588ca16c",
   "metadata": {},
   "outputs": [
    {
     "data": {
      "text/plain": [
       "Text(0.5, 0, 'vehicle length (m)')"
      ]
     },
     "execution_count": 9,
     "metadata": {},
     "output_type": "execute_result"
    },
    {
     "data": {
      "image/png": "[encoded data removed]",
      "text/plain": [
       "<Figure size 640x480 with 1 Axes>"
      ]
     },
     "metadata": {},
     "output_type": "display_data"
    }
   ],
   "source": [
    "sns.histplot(data=vehicles, x=\"length\",  bins = np.arange(0,16,0.5))\n",
    "plt.xlabel('vehicle length (m)')"
   ]
  },
  {
   "cell_type": "markdown",
   "id": "a4d0f42f",
   "metadata": {},
   "source": [
    "Interesting. It looks like there are several clusters of vehicle lengths. \n",
    "\n",
    "Have a look back at our dataframe - is there some information there that could explain the different clusters?\n",
    "<ul>\n",
    "    <li> Probably the clusters relate to different vehicle types\n",
    "</ul>\n",
    "\n",
    "I can plot vehicle types in different colours (again no need ot worry about the plotting code at this stage)"
   ]
  },
  {
   "cell_type": "code",
   "execution_count": 10,
   "id": "178e8c24",
   "metadata": {},
   "outputs": [
    {
     "data": {
      "text/plain": [
       "Text(0.5, 0, 'vehicle length (m)')"
      ]
     },
     "execution_count": 10,
     "metadata": {},
     "output_type": "execute_result"
    },
    {
     "data": {
      "image/png": "[encoded data removed]",
      "text/plain": [
       "<Figure size 640x480 with 1 Axes>"
      ]
     },
     "metadata": {},
     "output_type": "display_data"
    }
   ],
   "source": [
    "sns.histplot(data=vehicles, x=\"length\", bins = np.arange(0,16,0.5), hue=\"type\")\n",
    "plt.xlabel('vehicle length (m)')"
   ]
  },
  {
   "cell_type": "markdown",
   "id": "c5434428",
   "metadata": {},
   "source": [
    "Aha. We might want to describe our data separately for each by vehicle type.\n",
    "\n",
    "One way to do this is to create separate dataframes for each vehicle type:"
   ]
  },
  {
   "cell_type": "code",
   "execution_count": 11,
   "id": "6b5fe94f",
   "metadata": {},
   "outputs": [
    {
     "data": {
      "text/html": [
       "<div>\n",
       "<style scoped>\n",
       "    .dataframe tbody tr th:only-of-type {\n",
       "        vertical-align: middle;\n",
       "    }\n",
       "\n",
       "    .dataframe tbody tr th {\n",
       "        vertical-align: top;\n",
       "    }\n",
       "\n",
       "    .dataframe thead th {\n",
       "        text-align: right;\n",
       "    }\n",
       "</style>\n",
       "<table border=\"1\" class=\"dataframe\">\n",
       "  <thead>\n",
       "    <tr style=\"text-align: right;\">\n",
       "      <th></th>\n",
       "      <th>length</th>\n",
       "      <th>height</th>\n",
       "      <th>width</th>\n",
       "    </tr>\n",
       "  </thead>\n",
       "  <tbody>\n",
       "    <tr>\n",
       "      <th>count</th>\n",
       "      <td>981.000000</td>\n",
       "      <td>981.000000</td>\n",
       "      <td>981.000000</td>\n",
       "    </tr>\n",
       "    <tr>\n",
       "      <th>mean</th>\n",
       "      <td>4.197994</td>\n",
       "      <td>1.580810</td>\n",
       "      <td>1.791925</td>\n",
       "    </tr>\n",
       "    <tr>\n",
       "      <th>std</th>\n",
       "      <td>0.517761</td>\n",
       "      <td>0.059263</td>\n",
       "      <td>0.046921</td>\n",
       "    </tr>\n",
       "    <tr>\n",
       "      <th>min</th>\n",
       "      <td>3.110900</td>\n",
       "      <td>1.430400</td>\n",
       "      <td>1.624100</td>\n",
       "    </tr>\n",
       "    <tr>\n",
       "      <th>25%</th>\n",
       "      <td>3.815400</td>\n",
       "      <td>1.540000</td>\n",
       "      <td>1.760200</td>\n",
       "    </tr>\n",
       "    <tr>\n",
       "      <th>50%</th>\n",
       "      <td>4.121600</td>\n",
       "      <td>1.574500</td>\n",
       "      <td>1.790400</td>\n",
       "    </tr>\n",
       "    <tr>\n",
       "      <th>75%</th>\n",
       "      <td>4.518400</td>\n",
       "      <td>1.611900</td>\n",
       "      <td>1.820900</td>\n",
       "    </tr>\n",
       "    <tr>\n",
       "      <th>max</th>\n",
       "      <td>6.102400</td>\n",
       "      <td>1.899300</td>\n",
       "      <td>1.958000</td>\n",
       "    </tr>\n",
       "  </tbody>\n",
       "</table>\n",
       "</div>"
      ],
      "text/plain": [
       "           length      height       width\n",
       "count  981.000000  981.000000  981.000000\n",
       "mean     4.197994    1.580810    1.791925\n",
       "std      0.517761    0.059263    0.046921\n",
       "min      3.110900    1.430400    1.624100\n",
       "25%      3.815400    1.540000    1.760200\n",
       "50%      4.121600    1.574500    1.790400\n",
       "75%      4.518400    1.611900    1.820900\n",
       "max      6.102400    1.899300    1.958000"
      ]
     },
     "execution_count": 11,
     "metadata": {},
     "output_type": "execute_result"
    }
   ],
   "source": [
    "cars = vehicles[vehicles['type']=='car']\n",
    "cars.describe()"
   ]
  },
  {
   "cell_type": "markdown",
   "id": "f5216b29",
   "metadata": {},
   "source": [
    "we can see that 981 of the vehicles were cars, and their mean length was 4.198m, much shorter than the mean over all vehicles.\n",
    "\n",
    "Try modifying the code below to get descriptive statistics for trucks:"
   ]
  },
  {
   "cell_type": "code",
   "execution_count": 12,
   "id": "a54bfd9e",
   "metadata": {},
   "outputs": [
    {
     "data": {
      "text/html": [
       "<div>\n",
       "<style scoped>\n",
       "    .dataframe tbody tr th:only-of-type {\n",
       "        vertical-align: middle;\n",
       "    }\n",
       "\n",
       "    .dataframe tbody tr th {\n",
       "        vertical-align: top;\n",
       "    }\n",
       "\n",
       "    .dataframe thead th {\n",
       "        text-align: right;\n",
       "    }\n",
       "</style>\n",
       "<table border=\"1\" class=\"dataframe\">\n",
       "  <thead>\n",
       "    <tr style=\"text-align: right;\">\n",
       "      <th></th>\n",
       "      <th>length</th>\n",
       "      <th>height</th>\n",
       "      <th>width</th>\n",
       "    </tr>\n",
       "  </thead>\n",
       "  <tbody>\n",
       "    <tr>\n",
       "      <th>count</th>\n",
       "      <td>981.000000</td>\n",
       "      <td>981.000000</td>\n",
       "      <td>981.000000</td>\n",
       "    </tr>\n",
       "    <tr>\n",
       "      <th>mean</th>\n",
       "      <td>4.197994</td>\n",
       "      <td>1.580810</td>\n",
       "      <td>1.791925</td>\n",
       "    </tr>\n",
       "    <tr>\n",
       "      <th>std</th>\n",
       "      <td>0.517761</td>\n",
       "      <td>0.059263</td>\n",
       "      <td>0.046921</td>\n",
       "    </tr>\n",
       "    <tr>\n",
       "      <th>min</th>\n",
       "      <td>3.110900</td>\n",
       "      <td>1.430400</td>\n",
       "      <td>1.624100</td>\n",
       "    </tr>\n",
       "    <tr>\n",
       "      <th>25%</th>\n",
       "      <td>3.815400</td>\n",
       "      <td>1.540000</td>\n",
       "      <td>1.760200</td>\n",
       "    </tr>\n",
       "    <tr>\n",
       "      <th>50%</th>\n",
       "      <td>4.121600</td>\n",
       "      <td>1.574500</td>\n",
       "      <td>1.790400</td>\n",
       "    </tr>\n",
       "    <tr>\n",
       "      <th>75%</th>\n",
       "      <td>4.518400</td>\n",
       "      <td>1.611900</td>\n",
       "      <td>1.820900</td>\n",
       "    </tr>\n",
       "    <tr>\n",
       "      <th>max</th>\n",
       "      <td>6.102400</td>\n",
       "      <td>1.899300</td>\n",
       "      <td>1.958000</td>\n",
       "    </tr>\n",
       "  </tbody>\n",
       "</table>\n",
       "</div>"
      ],
      "text/plain": [
       "           length      height       width\n",
       "count  981.000000  981.000000  981.000000\n",
       "mean     4.197994    1.580810    1.791925\n",
       "std      0.517761    0.059263    0.046921\n",
       "min      3.110900    1.430400    1.624100\n",
       "25%      3.815400    1.540000    1.760200\n",
       "50%      4.121600    1.574500    1.790400\n",
       "75%      4.518400    1.611900    1.820900\n",
       "max      6.102400    1.899300    1.958000"
      ]
     },
     "execution_count": 12,
     "metadata": {},
     "output_type": "execute_result"
    }
   ],
   "source": [
    "# modify the code to get descritives for trucks\n",
    "cars = vehicles[vehicles['type']=='car']\n",
    "cars.describe()"
   ]
  },
  {
   "cell_type": "markdown",
   "id": "6e25855a",
   "metadata": {},
   "source": [
    "### <tt>pandas.groupby</tt>\n",
    "\n",
    "We can also use the pandas function <a href=\"https://pandas.pydata.org/docs/reference/api/pandas.DataFrame.groupby.html\"><tt>groupby</tt></a> to split up our dataframe according to a categorical variable, in this case vehicle type."
   ]
  },
  {
   "cell_type": "code",
   "execution_count": 13,
   "id": "36c0850d",
   "metadata": {},
   "outputs": [
    {
     "data": {
      "text/html": [
       "<div>\n",
       "<style scoped>\n",
       "    .dataframe tbody tr th:only-of-type {\n",
       "        vertical-align: middle;\n",
       "    }\n",
       "\n",
       "    .dataframe tbody tr th {\n",
       "        vertical-align: top;\n",
       "    }\n",
       "\n",
       "    .dataframe thead tr th {\n",
       "        text-align: left;\n",
       "    }\n",
       "\n",
       "    .dataframe thead tr:last-of-type th {\n",
       "        text-align: right;\n",
       "    }\n",
       "</style>\n",
       "<table border=\"1\" class=\"dataframe\">\n",
       "  <thead>\n",
       "    <tr>\n",
       "      <th></th>\n",
       "      <th colspan=\"8\" halign=\"left\">length</th>\n",
       "      <th colspan=\"5\" halign=\"left\">height</th>\n",
       "      <th colspan=\"8\" halign=\"left\">width</th>\n",
       "    </tr>\n",
       "    <tr>\n",
       "      <th></th>\n",
       "      <th>count</th>\n",
       "      <th>mean</th>\n",
       "      <th>std</th>\n",
       "      <th>min</th>\n",
       "      <th>25%</th>\n",
       "      <th>50%</th>\n",
       "      <th>75%</th>\n",
       "      <th>max</th>\n",
       "      <th>count</th>\n",
       "      <th>mean</th>\n",
       "      <th>...</th>\n",
       "      <th>75%</th>\n",
       "      <th>max</th>\n",
       "      <th>count</th>\n",
       "      <th>mean</th>\n",
       "      <th>std</th>\n",
       "      <th>min</th>\n",
       "      <th>25%</th>\n",
       "      <th>50%</th>\n",
       "      <th>75%</th>\n",
       "      <th>max</th>\n",
       "    </tr>\n",
       "    <tr>\n",
       "      <th>type</th>\n",
       "      <th></th>\n",
       "      <th></th>\n",
       "      <th></th>\n",
       "      <th></th>\n",
       "      <th></th>\n",
       "      <th></th>\n",
       "      <th></th>\n",
       "      <th></th>\n",
       "      <th></th>\n",
       "      <th></th>\n",
       "      <th></th>\n",
       "      <th></th>\n",
       "      <th></th>\n",
       "      <th></th>\n",
       "      <th></th>\n",
       "      <th></th>\n",
       "      <th></th>\n",
       "      <th></th>\n",
       "      <th></th>\n",
       "      <th></th>\n",
       "      <th></th>\n",
       "    </tr>\n",
       "  </thead>\n",
       "  <tbody>\n",
       "    <tr>\n",
       "      <th>car</th>\n",
       "      <td>981.0</td>\n",
       "      <td>4.197994</td>\n",
       "      <td>0.517761</td>\n",
       "      <td>3.1109</td>\n",
       "      <td>3.8154</td>\n",
       "      <td>4.1216</td>\n",
       "      <td>4.5184</td>\n",
       "      <td>6.1024</td>\n",
       "      <td>981.0</td>\n",
       "      <td>1.580810</td>\n",
       "      <td>...</td>\n",
       "      <td>1.6119</td>\n",
       "      <td>1.8993</td>\n",
       "      <td>981.0</td>\n",
       "      <td>1.791925</td>\n",
       "      <td>0.046921</td>\n",
       "      <td>1.6241</td>\n",
       "      <td>1.7602</td>\n",
       "      <td>1.79040</td>\n",
       "      <td>1.82090</td>\n",
       "      <td>1.9580</td>\n",
       "    </tr>\n",
       "    <tr>\n",
       "      <th>towing</th>\n",
       "      <td>53.0</td>\n",
       "      <td>8.672951</td>\n",
       "      <td>0.713460</td>\n",
       "      <td>7.2561</td>\n",
       "      <td>8.1323</td>\n",
       "      <td>8.6894</td>\n",
       "      <td>9.2191</td>\n",
       "      <td>10.0980</td>\n",
       "      <td>53.0</td>\n",
       "      <td>2.897838</td>\n",
       "      <td>...</td>\n",
       "      <td>2.9064</td>\n",
       "      <td>2.9445</td>\n",
       "      <td>53.0</td>\n",
       "      <td>2.248326</td>\n",
       "      <td>0.008222</td>\n",
       "      <td>2.2292</td>\n",
       "      <td>2.2442</td>\n",
       "      <td>2.24790</td>\n",
       "      <td>2.25400</td>\n",
       "      <td>2.2642</td>\n",
       "    </tr>\n",
       "    <tr>\n",
       "      <th>truck</th>\n",
       "      <td>330.0</td>\n",
       "      <td>13.915864</td>\n",
       "      <td>1.343028</td>\n",
       "      <td>11.1480</td>\n",
       "      <td>12.5640</td>\n",
       "      <td>14.3650</td>\n",
       "      <td>15.0750</td>\n",
       "      <td>16.2310</td>\n",
       "      <td>330.0</td>\n",
       "      <td>4.072725</td>\n",
       "      <td>...</td>\n",
       "      <td>4.2009</td>\n",
       "      <td>4.2137</td>\n",
       "      <td>330.0</td>\n",
       "      <td>2.501304</td>\n",
       "      <td>0.015871</td>\n",
       "      <td>2.4629</td>\n",
       "      <td>2.4898</td>\n",
       "      <td>2.50145</td>\n",
       "      <td>2.51155</td>\n",
       "      <td>2.5467</td>\n",
       "    </tr>\n",
       "  </tbody>\n",
       "</table>\n",
       "<p>3 rows × 24 columns</p>\n",
       "</div>"
      ],
      "text/plain": [
       "       length                                                           \\\n",
       "        count       mean       std      min      25%      50%      75%   \n",
       "type                                                                     \n",
       "car     981.0   4.197994  0.517761   3.1109   3.8154   4.1216   4.5184   \n",
       "towing   53.0   8.672951  0.713460   7.2561   8.1323   8.6894   9.2191   \n",
       "truck   330.0  13.915864  1.343028  11.1480  12.5640  14.3650  15.0750   \n",
       "\n",
       "                height            ...                  width            \\\n",
       "            max  count      mean  ...     75%     max  count      mean   \n",
       "type                              ...                                    \n",
       "car      6.1024  981.0  1.580810  ...  1.6119  1.8993  981.0  1.791925   \n",
       "towing  10.0980   53.0  2.897838  ...  2.9064  2.9445   53.0  2.248326   \n",
       "truck   16.2310  330.0  4.072725  ...  4.2009  4.2137  330.0  2.501304   \n",
       "\n",
       "                                                            \n",
       "             std     min     25%      50%      75%     max  \n",
       "type                                                        \n",
       "car     0.046921  1.6241  1.7602  1.79040  1.82090  1.9580  \n",
       "towing  0.008222  2.2292  2.2442  2.24790  2.25400  2.2642  \n",
       "truck   0.015871  2.4629  2.4898  2.50145  2.51155  2.5467  \n",
       "\n",
       "[3 rows x 24 columns]"
      ]
     },
     "execution_count": 13,
     "metadata": {},
     "output_type": "execute_result"
    }
   ],
   "source": [
    "vehicles.groupby(['type']).describe()"
   ]
  },
  {
   "cell_type": "markdown",
   "id": "a877a50b",
   "metadata": {},
   "source": [
    "Yikes, that was an unweildy table!\n",
    "\n",
    "It may be preferable to output descriptives only for one measure (eg length):"
   ]
  },
  {
   "cell_type": "code",
   "execution_count": 14,
   "id": "bb8bd9b6",
   "metadata": {},
   "outputs": [
    {
     "data": {
      "text/html": [
       "<div>\n",
       "<style scoped>\n",
       "    .dataframe tbody tr th:only-of-type {\n",
       "        vertical-align: middle;\n",
       "    }\n",
       "\n",
       "    .dataframe tbody tr th {\n",
       "        vertical-align: top;\n",
       "    }\n",
       "\n",
       "    .dataframe thead th {\n",
       "        text-align: right;\n",
       "    }\n",
       "</style>\n",
       "<table border=\"1\" class=\"dataframe\">\n",
       "  <thead>\n",
       "    <tr style=\"text-align: right;\">\n",
       "      <th></th>\n",
       "      <th>count</th>\n",
       "      <th>mean</th>\n",
       "      <th>std</th>\n",
       "      <th>min</th>\n",
       "      <th>25%</th>\n",
       "      <th>50%</th>\n",
       "      <th>75%</th>\n",
       "      <th>max</th>\n",
       "    </tr>\n",
       "    <tr>\n",
       "      <th>type</th>\n",
       "      <th></th>\n",
       "      <th></th>\n",
       "      <th></th>\n",
       "      <th></th>\n",
       "      <th></th>\n",
       "      <th></th>\n",
       "      <th></th>\n",
       "      <th></th>\n",
       "    </tr>\n",
       "  </thead>\n",
       "  <tbody>\n",
       "    <tr>\n",
       "      <th>car</th>\n",
       "      <td>981.0</td>\n",
       "      <td>4.197994</td>\n",
       "      <td>0.517761</td>\n",
       "      <td>3.1109</td>\n",
       "      <td>3.8154</td>\n",
       "      <td>4.1216</td>\n",
       "      <td>4.5184</td>\n",
       "      <td>6.1024</td>\n",
       "    </tr>\n",
       "    <tr>\n",
       "      <th>towing</th>\n",
       "      <td>53.0</td>\n",
       "      <td>8.672951</td>\n",
       "      <td>0.713460</td>\n",
       "      <td>7.2561</td>\n",
       "      <td>8.1323</td>\n",
       "      <td>8.6894</td>\n",
       "      <td>9.2191</td>\n",
       "      <td>10.0980</td>\n",
       "    </tr>\n",
       "    <tr>\n",
       "      <th>truck</th>\n",
       "      <td>330.0</td>\n",
       "      <td>13.915864</td>\n",
       "      <td>1.343028</td>\n",
       "      <td>11.1480</td>\n",
       "      <td>12.5640</td>\n",
       "      <td>14.3650</td>\n",
       "      <td>15.0750</td>\n",
       "      <td>16.2310</td>\n",
       "    </tr>\n",
       "  </tbody>\n",
       "</table>\n",
       "</div>"
      ],
      "text/plain": [
       "        count       mean       std      min      25%      50%      75%  \\\n",
       "type                                                                     \n",
       "car     981.0   4.197994  0.517761   3.1109   3.8154   4.1216   4.5184   \n",
       "towing   53.0   8.672951  0.713460   7.2561   8.1323   8.6894   9.2191   \n",
       "truck   330.0  13.915864  1.343028  11.1480  12.5640  14.3650  15.0750   \n",
       "\n",
       "            max  \n",
       "type             \n",
       "car      6.1024  \n",
       "towing  10.0980  \n",
       "truck   16.2310  "
      ]
     },
     "execution_count": 14,
     "metadata": {},
     "output_type": "execute_result"
    }
   ],
   "source": [
    "vehicles.groupby(['type'])['length'].describe()"
   ]
  },
  {
   "cell_type": "markdown",
   "id": "d87b8807",
   "metadata": {},
   "source": [
    "... or to output one descriptive (such as the mean) at a time, rather than the whole table"
   ]
  },
  {
   "cell_type": "code",
   "execution_count": 15,
   "id": "7fd96710",
   "metadata": {},
   "outputs": [
    {
     "data": {
      "text/html": [
       "<div>\n",
       "<style scoped>\n",
       "    .dataframe tbody tr th:only-of-type {\n",
       "        vertical-align: middle;\n",
       "    }\n",
       "\n",
       "    .dataframe tbody tr th {\n",
       "        vertical-align: top;\n",
       "    }\n",
       "\n",
       "    .dataframe thead th {\n",
       "        text-align: right;\n",
       "    }\n",
       "</style>\n",
       "<table border=\"1\" class=\"dataframe\">\n",
       "  <thead>\n",
       "    <tr style=\"text-align: right;\">\n",
       "      <th></th>\n",
       "      <th>length</th>\n",
       "      <th>height</th>\n",
       "      <th>width</th>\n",
       "    </tr>\n",
       "    <tr>\n",
       "      <th>type</th>\n",
       "      <th></th>\n",
       "      <th></th>\n",
       "      <th></th>\n",
       "    </tr>\n",
       "  </thead>\n",
       "  <tbody>\n",
       "    <tr>\n",
       "      <th>car</th>\n",
       "      <td>4.197994</td>\n",
       "      <td>1.580810</td>\n",
       "      <td>1.791925</td>\n",
       "    </tr>\n",
       "    <tr>\n",
       "      <th>towing</th>\n",
       "      <td>8.672951</td>\n",
       "      <td>2.897838</td>\n",
       "      <td>2.248326</td>\n",
       "    </tr>\n",
       "    <tr>\n",
       "      <th>truck</th>\n",
       "      <td>13.915864</td>\n",
       "      <td>4.072725</td>\n",
       "      <td>2.501304</td>\n",
       "    </tr>\n",
       "  </tbody>\n",
       "</table>\n",
       "</div>"
      ],
      "text/plain": [
       "           length    height     width\n",
       "type                                 \n",
       "car      4.197994  1.580810  1.791925\n",
       "towing   8.672951  2.897838  2.248326\n",
       "truck   13.915864  4.072725  2.501304"
      ]
     },
     "execution_count": 15,
     "metadata": {},
     "output_type": "execute_result"
    }
   ],
   "source": [
    "vehicles.groupby(['type']).mean()"
   ]
  },
  {
   "cell_type": "markdown",
   "id": "7bfb01b7",
   "metadata": {},
   "source": [
    "# Your report for SpeedyFerry"
   ]
  },
  {
   "cell_type": "markdown",
   "id": "c597c8d9",
   "metadata": {},
   "source": [
    "<div style = \"    padding-top: 10px;\n",
    "    padding-bottom: 10px;\n",
    "    padding-left: 10px;\n",
    "    padding-right: 10px;\n",
    "    box-shadow: 0px 8px 16px 0px rgba(0,0,0,0.2);\n",
    "    vertical-align: middle;\">\n",
    "    \n",
    "This is a <tt>stub</tt> for your report to SpeedyFerry. \n",
    "\n",
    "The text in each markdown cell is given to guide you. You will replace this with your own text.\n",
    "\n",
    "Similarly, you will edit the code in each code cell to produce the necessary plots and statistics.\n",
    "\n",
    "This stub is quite structured to guide you through the process. Later in the course, you will develop your reports with less structured guidance.\n",
    "    \n",
    "</div>"
   ]
  },
  {
   "cell_type": "markdown",
   "id": "24dd61a6",
   "metadata": {},
   "source": [
    "## Description of vehicle types and sizes\n",
    "\n",
    "Based on the sample data recorded at 1pm on Sunday 24th April 2022, the vehicles to be accommodated fall into XXX categories:\n",
    "* cars\n",
    "* xxx\n",
    "* xxx\n",
    "\n",
    "The majority of vehicles are cars."
   ]
  },
  {
   "cell_type": "code",
   "execution_count": 16,
   "id": "c5d6e063",
   "metadata": {},
   "outputs": [
    {
     "ename": "SyntaxError",
     "evalue": "invalid syntax (901274714.py, line 2)",
     "output_type": "error",
     "traceback": [
      "\u001b[0;36m  Cell \u001b[0;32mIn[16], line 2\u001b[0;36m\u001b[0m\n\u001b[0;31m    vehicles = ### your code here to load the csv file\u001b[0m\n\u001b[0m               ^\u001b[0m\n\u001b[0;31mSyntaxError\u001b[0m\u001b[0;31m:\u001b[0m invalid syntax\n"
     ]
    }
   ],
   "source": [
    "# load the data\n",
    "vehicles = ### your code here to load the csv file\n",
    "\n",
    "# produce a plot that illustrates that the majority of vehicles are cars\n",
    "sns.histplot(data=vehicles, x=\"length\", bins = np.arange(0,16,0.5), hue=\"type\")\n",
    "plt.xlabel('vehicle length (m)')"
   ]
  },
  {
   "cell_type": "markdown",
   "id": "2eac220f",
   "metadata": {},
   "source": [
    "The length and width of vehicles differs substantially between classes"
   ]
  },
  {
   "cell_type": "code",
   "execution_count": 55,
   "id": "e4064664",
   "metadata": {},
   "outputs": [
    {
     "data": {
      "image/png": "[encoded data removed]",
      "text/plain": [
       "<Figure size 432x288 with 2 Axes>"
      ]
     },
     "metadata": {},
     "output_type": "display_data"
    }
   ],
   "source": [
    "# produce a plot to illustrate the distribution of lengths and widths for each class\n",
    "plt.subplot(1,2,1)\n",
    "sns.histplot(data=vehicles, x=\"length\", bins = np.arange(0,16,0.5), hue=\"type\")\n",
    "plt.xlabel('vehicle length (m)')\n",
    "\n",
    "plt.subplot(1,2,2)\n",
    "sns.histplot(data=vehicles, x=\"width\", bins = np.arange(1.5,3,0.1), hue=\"type\")\n",
    "plt.xlabel('vehicle length (m)')\n",
    "\n",
    "plt.subplots_adjust(wspace = 0.5) # shift the plots sideways so they don't overlap"
   ]
  },
  {
   "cell_type": "markdown",
   "id": "ccb2ab2e",
   "metadata": {},
   "source": [
    "The mean length of cars is 4.20m (sd 0.51), the mean length of trucks \\< your text here \\> and tows \\< your text here \\>. "
   ]
  },
  {
   "cell_type": "code",
   "execution_count": null,
   "id": "c2ee07ed",
   "metadata": {},
   "outputs": [],
   "source": [
    "# Your code here to output the mean and s.d. of length for each class"
   ]
  },
  {
   "cell_type": "markdown",
   "id": "cf3ddfab",
   "metadata": {},
   "source": [
    "The mean width of cars is \\< your text here giving descriptives for width of each class \\> "
   ]
  },
  {
   "cell_type": "code",
   "execution_count": null,
   "id": "2335f3bc",
   "metadata": {},
   "outputs": [],
   "source": [
    "# Your code here to output the mean and s.d. of width for each class"
   ]
  },
  {
   "cell_type": "markdown",
   "id": "24f7f12b",
   "metadata": {},
   "source": [
    "therefore we would recommend .....[your comment on how to segregate the parking areas for vehicle classes]......:"
   ]
  },
  {
   "cell_type": "markdown",
   "id": "18d2d9b2",
   "metadata": {},
   "source": [
    "## Size and number of parking spaces in each zone\n",
    "\n",
    "We recommend that the parking spaces in each zone should be sized to fit the 95th centile in length and width of each vehicle class. \n",
    "The exact lengths are: /<your text here/>"
   ]
  },
  {
   "cell_type": "code",
   "execution_count": 78,
   "id": "5a966d6a",
   "metadata": {},
   "outputs": [
    {
     "data": {
      "text/html": [
       "<div>\n",
       "<style scoped>\n",
       "    .dataframe tbody tr th:only-of-type {\n",
       "        vertical-align: middle;\n",
       "    }\n",
       "\n",
       "    .dataframe tbody tr th {\n",
       "        vertical-align: top;\n",
       "    }\n",
       "\n",
       "    .dataframe thead th {\n",
       "        text-align: right;\n",
       "    }\n",
       "</style>\n",
       "<table border=\"1\" class=\"dataframe\">\n",
       "  <thead>\n",
       "    <tr style=\"text-align: right;\">\n",
       "      <th></th>\n",
       "      <th>length</th>\n",
       "      <th>height</th>\n",
       "      <th>width</th>\n",
       "    </tr>\n",
       "    <tr>\n",
       "      <th>type</th>\n",
       "      <th></th>\n",
       "      <th></th>\n",
       "      <th></th>\n",
       "    </tr>\n",
       "  </thead>\n",
       "  <tbody>\n",
       "    <tr>\n",
       "      <th>car</th>\n",
       "      <td>4.61130</td>\n",
       "      <td>1.62480</td>\n",
       "      <td>1.83000</td>\n",
       "    </tr>\n",
       "    <tr>\n",
       "      <th>towing</th>\n",
       "      <td>9.27982</td>\n",
       "      <td>2.91196</td>\n",
       "      <td>2.25472</td>\n",
       "    </tr>\n",
       "    <tr>\n",
       "      <th>truck</th>\n",
       "      <td>15.21260</td>\n",
       "      <td>4.20212</td>\n",
       "      <td>2.51552</td>\n",
       "    </tr>\n",
       "  </tbody>\n",
       "</table>\n",
       "</div>"
      ],
      "text/plain": [
       "          length   height    width\n",
       "type                              \n",
       "car      4.61130  1.62480  1.83000\n",
       "towing   9.27982  2.91196  2.25472\n",
       "truck   15.21260  4.20212  2.51552"
      ]
     },
     "execution_count": 78,
     "metadata": {},
     "output_type": "execute_result"
    }
   ],
   "source": [
    "# edit this code to give the 95th percentile (0.95 quantile) of measurements for each vehicle type\n",
    "#\n",
    "\n",
    "vehicles.groupby(['type']).q# complete the line!......\n"
   ]
  },
  {
   "cell_type": "markdown",
   "id": "eb5b0f5e",
   "metadata": {},
   "source": [
    "Given the observed frequencies in each vehicle class, we recommend the following minimum number of spaces in each zone, which is our observed vehicle counts +10% /< your text here - />"
   ]
  },
  {
   "cell_type": "code",
   "execution_count": 79,
   "id": "597f0ac2",
   "metadata": {},
   "outputs": [
    {
     "data": {
      "text/html": [
       "<div>\n",
       "<style scoped>\n",
       "    .dataframe tbody tr th:only-of-type {\n",
       "        vertical-align: middle;\n",
       "    }\n",
       "\n",
       "    .dataframe tbody tr th {\n",
       "        vertical-align: top;\n",
       "    }\n",
       "\n",
       "    .dataframe thead th {\n",
       "        text-align: right;\n",
       "    }\n",
       "</style>\n",
       "<table border=\"1\" class=\"dataframe\">\n",
       "  <thead>\n",
       "    <tr style=\"text-align: right;\">\n",
       "      <th></th>\n",
       "      <th>length</th>\n",
       "      <th>height</th>\n",
       "      <th>width</th>\n",
       "    </tr>\n",
       "    <tr>\n",
       "      <th>type</th>\n",
       "      <th></th>\n",
       "      <th></th>\n",
       "      <th></th>\n",
       "    </tr>\n",
       "  </thead>\n",
       "  <tbody>\n",
       "    <tr>\n",
       "      <th>car</th>\n",
       "      <td>981</td>\n",
       "      <td>981</td>\n",
       "      <td>981</td>\n",
       "    </tr>\n",
       "    <tr>\n",
       "      <th>towing</th>\n",
       "      <td>53</td>\n",
       "      <td>53</td>\n",
       "      <td>53</td>\n",
       "    </tr>\n",
       "    <tr>\n",
       "      <th>truck</th>\n",
       "      <td>330</td>\n",
       "      <td>330</td>\n",
       "      <td>330</td>\n",
       "    </tr>\n",
       "  </tbody>\n",
       "</table>\n",
       "</div>"
      ],
      "text/plain": [
       "        length  height  width\n",
       "type                         \n",
       "car        981     981    981\n",
       "towing      53      53     53\n",
       "truck      330     330    330"
      ]
     },
     "execution_count": 79,
     "metadata": {},
     "output_type": "execute_result"
    }
   ],
   "source": [
    "# your code to give the number of vehicles in each class - \n",
    "# hint - similar to the code above but use .count() instead of .quantile()"
   ]
  },
  {
   "cell_type": "markdown",
   "id": "4e7d3fef",
   "metadata": {},
   "source": [
    "### The end!"
   ]
  },
  {
   "cell_type": "code",
   "execution_count": 94,
   "id": "ad89bc89",
   "metadata": {},
   "outputs": [],
   "source": [
    "cars = vehicles[vehicles['type']=='car']\n",
    "\n",
    "cars.to_csv('data/cars.csv', index=\"False\")\n",
    "vehicles.to_csv('data/vehicles.csv', index=\"False\")"
   ]
  },
  {
   "cell_type": "code",
   "execution_count": null,
   "id": "7e6e506c",
   "metadata": {},
   "outputs": [],
   "source": []
  }
 ],
 "metadata": {
  "kernelspec": {
   "display_name": "Python 3 (ipykernel)",
   "language": "python",
   "name": "python3"
  },
  "language_info": {
   "codemirror_mode": {
    "name": "ipython",
    "version": 3
   },
   "file_extension": ".py",
   "mimetype": "text/x-python",
   "name": "python",
   "nbconvert_exporter": "python",
   "pygments_lexer": "ipython3",
   "version": "3.9.18"
  }
 },
 "nbformat": 4,
 "nbformat_minor": 5
}