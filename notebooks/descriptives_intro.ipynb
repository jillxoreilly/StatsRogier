# Describing data

This week we will look at descriptive statistics
